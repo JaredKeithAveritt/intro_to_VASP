{
 "cells": [
  {
   "cell_type": "code",
   "execution_count": null,
   "id": "fe1920d9-4f42-477c-8875-bdd63b688f4a",
   "metadata": {},
   "outputs": [],
   "source": [
    "import matplotlib.pyplot as plt\n",
    "from ase.dft.dos import DOS\n",
    "from ase.calculators.vasp import Vasp\n",
    "\n",
    "######################\n",
    "path_to_vasp_output_files= '/nas/longleaf/home/jarkeith/VASP/graphene_4_5_dione_ammonia/optimize_system_1/output/system_0'\n",
    "change_width = 0.2\n",
    "#####################\n",
    "\n",
    "calc = Vasp(restart=True,directory= path_to_vasp_output_files)\n",
    "energies, dos = calc.get_dos(width=change_width)\n",
    "import matplotlib.pyplot as plt\n",
    "plt.plot(energies,dos)\n",
    "plt.xlabel('energy [eV]')\n",
    "plt.ylabel('DOS')\n",
    "plt.show()"
   ]
  }
 ],
 "metadata": {
  "kernelspec": {
   "display_name": "Python(TorchANI)",
   "language": "python",
   "name": "torchani"
  },
  "language_info": {
   "codemirror_mode": {
    "name": "ipython",
    "version": 3
   },
   "file_extension": ".py",
   "mimetype": "text/x-python",
   "name": "python",
   "nbconvert_exporter": "python",
   "pygments_lexer": "ipython3",
   "version": "3.10.8"
  }
 },
 "nbformat": 4,
 "nbformat_minor": 5
}
